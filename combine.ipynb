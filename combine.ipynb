{
 "cells": [
  {
   "cell_type": "code",
   "execution_count": 16,
   "id": "8208aa4d-35d4-4d6f-be57-87ccf9e36098",
   "metadata": {},
   "outputs": [
    {
     "name": "stdout",
     "output_type": "stream",
     "text": [
      "Welcome to the world of Harry Potter! \n",
      "\n",
      "Today, we will test how good you actually know this magical world and its residents. If you prove yourself worthy, we will allow you an even deeper look inside the mysteries of this fantastic world.\n",
      "\n",
      "To prove your knowledge you will have to answer 10 questions. If you know the owner of that quote you will permitted one point and a further bonus if you might guess the movie it appeared in right. Answer the majority write and extraordinary knowledge will be yours. \n",
      "\n",
      "Unforunately, due to staff shortage just the first 3 movies will be considered. \n",
      "\n",
      "But now without further ado... Let the test begin!\n"
     ]
    }
   ],
   "source": [
    "import quiz\n",
    "\n",
    "# introduction to the quiz\n",
    "print(\"\"\"Welcome to the world of Harry Potter! \n",
    "\n",
    "Today, we will test how good you actually know this magical world and its residents. If you prove yourself worthy, we will allow you an even deeper look inside the mysteries of this fantastic world.\n",
    "\n",
    "To prove your knowledge you will have to answer 10 questions. If you know the owner of that quote you will permitted one point and a further bonus if you might guess the movie it appeared in right. Answer the majority write and extraordinary knowledge will be yours. \n",
    "\n",
    "Unforunately, due to staff shortage just the first 3 movies will be considered. \n",
    "\n",
    "But now without further ado... Let the test begin!\"\"\")"
   ]
  },
  {
   "cell_type": "code",
   "execution_count": 17,
   "id": "9b8e3fea-4d8e-4b6d-8550-1def1e6f1d71",
   "metadata": {},
   "outputs": [
    {
     "name": "stdout",
     "output_type": "stream",
     "text": [
      "Your answer: malfoy\n",
      "Your answer was wrong! Actually, Lucius Malfoy said that\n",
      "\n",
      "Your answer: 1\n",
      "Your answer was wrong! Actually, the quote is from the movie 2: Harry Potter and the Chamber of Secrets.\n",
      "\n",
      "Your answer: hermione\n",
      "Your answer was correct!\n",
      "\n",
      "Your answer: 3\n",
      "Your answer was correct!\n",
      "\n",
      "Your answer: dumbledore\n",
      "Your answer was wrong! Actually, Lucius Malfoy said that\n",
      "\n",
      "Your answer: 2\n",
      "Your answer was correct!\n",
      "\n",
      "Your answer: hagrid\n",
      "Your answer was correct!\n",
      "\n",
      "Your answer: 3\n",
      "Your answer was wrong! Actually, the quote is from the movie 2: Harry Potter and the Chamber of Secrets.\n",
      "\n",
      "Your answer: \n",
      "Your answer was wrong! Actually, Firenze said that\n",
      "\n",
      "Your answer: 2\n",
      "Your answer was wrong! Actually, the quote is from the movie 1: Harry Potter and the Philosopher’s Stone.\n",
      "\n",
      "Your answer: hermione\n",
      "Your answer was correct!\n",
      "\n",
      "Your answer: 1\n",
      "Your answer was correct!\n",
      "\n",
      "Your answer: dobby\n",
      "Your answer was correct!\n",
      "\n",
      "Your answer: 3\n",
      "Your answer was wrong! Actually, the quote is from the movie 2: Harry Potter and the Chamber of Secrets.\n",
      "\n",
      "Your answer: ron\n",
      "Your answer was wrong! Actually, Hermione said that\n",
      "\n",
      "Your answer: 2\n",
      "Your answer was correct!\n",
      "\n",
      "Your answer: harry\n",
      "Your answer was correct!\n",
      "\n",
      "Your answer: 3\n",
      "Your answer was correct!\n",
      "\n",
      "Your answer: dobby\n",
      "Your answer was correct!\n",
      "\n",
      "Your answer: 3\n",
      "Your answer was wrong! Actually, the quote is from the movie 2: Harry Potter and the Chamber of Secrets.\n",
      "\n",
      "Final score: 6 \n",
      "Bonus points: 5\n",
      "Congratulation! You have mastered the test so many before you failed. As promised, you can know have a look at some long hidden knowledge. The question just remains what you will first look at?\n",
      "Your options are: \n",
      "    0. the distribution of hair colour in each house\n",
      "    1. the distribtuion of eye colour in each house \n",
      "    2. the distribution of gender in each house\n",
      "    3. the distribution of blood status in each house\n",
      "    4. the distribution of loyalty in each house\n",
      "    5. the distribtuion of lines in each movie \n",
      "\n"
     ]
    },
    {
     "name": "stderr",
     "output_type": "stream",
     "text": [
      "c:\\Users\\prizl\\Documents\\GitHub\\python_project2022\\plotting.py:296: UserWarning: You have mixed positional and keyword arguments, some input may be discarded.\n",
      "  fig.legend(fig,        # the line objects\n"
     ]
    },
    {
     "data": {
      "image/png": "[encoded data removed]",
      "text/plain": [
       "<Figure size 432x288 with 4 Axes>"
      ]
     },
     "metadata": {},
     "output_type": "display_data"
    }
   ],
   "source": [
    "import plotting\n",
    "\n",
    "# preprocessing the data necessary for the quote quiz\n",
    "hp_script = quiz.preprocessing()\n",
    "\n",
    "# perform the actual test\n",
    "score, bonus = quiz.quote_quiz(hp_script)\n",
    "\n",
    "if(score >= 6):\n",
    "    print(\"Congratulation! You have mastered the test so many before you failed. As promised, you can know have a look at some long hidden knowledge. The question just remains what you will first look at?\")\n",
    "    print(\"\"\"Your options are: \n",
    "    0. the distribution of gender in each house\n",
    "    1. the distribution of blood status in each house\n",
    "    2. the distribtuion of hair coloureye colour in each house \n",
    "    3. the distribution of eye colour in each house\n",
    "    4. the distribution of loyalty in each house\n",
    "    5. the distribtuion of lines in each movie \\n\"\"\")\n",
    "    \n",
    "    choice = int(input(\"Which plot will you choose? Choose between 0 to 5.\"))\n",
    "    \n",
    "    if choice >= 0 and choice <= 4:\n",
    "        plotting.plot(choice)\n",
    "        \n",
    "    elif(choice == 5):\n",
    "        quiz.plot(hp_script)\n",
    "    \n",
    "else:\n",
    "    print(\"Your access has been denied\")"
   ]
  },
  {
   "cell_type": "code",
   "execution_count": null,
   "id": "82593485-cb32-4d04-93f1-d93c26f0583b",
   "metadata": {},
   "outputs": [],
   "source": []
  }
 ],
 "metadata": {
  "kernelspec": {
   "display_name": "Python 3.10.5 64-bit (windows store)",
   "language": "python",
   "name": "python3"
  },
  "language_info": {
   "codemirror_mode": {
    "name": "ipython",
    "version": 3
   },
   "file_extension": ".py",
   "mimetype": "text/x-python",
   "name": "python",
   "nbconvert_exporter": "python",
   "pygments_lexer": "ipython3",
   "version": "3.10.5"
  },
  "vscode": {
   "interpreter": {
    "hash": "9045caf6303e7720903cf179822b02fa228c285a06d63d48b635a33538dcbdb3"
   }
  }
 },
 "nbformat": 4,
 "nbformat_minor": 5
}

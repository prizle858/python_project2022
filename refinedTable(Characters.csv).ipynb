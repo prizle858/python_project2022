{
 "cells": [
  {
   "cell_type": "code",
   "execution_count": 28,
   "id": "3ee4a1a8-2026-4919-8c6d-d2257834f337",
   "metadata": {},
   "outputs": [
    {
     "name": "stdout",
     "output_type": "stream",
     "text": [
      "Index(['Id', 'Name', 'Gender', 'Job', 'House', 'Wand', 'Patronus', 'Species',\n",
      "       'Blood status', 'Hair colour', 'Eye colour', 'Loyalty', 'Skills',\n",
      "       'Birth', 'Death'],\n",
      "      dtype='object')\n"
     ]
    }
   ],
   "source": [
    "import pandas as pd\n",
    "\n",
    "# read the files\n",
    "hp = pd.read_csv('Characters.csv', delimiter = \";\")\n",
    "\n",
    "print(hp.columns)"
   ]
  },
  {
   "cell_type": "code",
   "execution_count": 29,
   "id": "20eb9485",
   "metadata": {},
   "outputs": [],
   "source": [
    "hpp = hp[['Gender', 'House', 'Blood status', 'Hair colour', 'Eye colour', 'Loyalty']]\n",
    "hpp.columns = hpp.columns.str.replace(\"Blood status\", \"Blood_status\")\n",
    "hpp.columns = hpp.columns.str.replace(\"Hair colour\", \"Hair_colour\")\n",
    "hpp.columns = hpp.columns.str.replace(\"Eye colour\", \"Eye_colour\")\n"
   ]
  },
  {
   "cell_type": "code",
   "execution_count": 30,
   "id": "35c2341b",
   "metadata": {},
   "outputs": [
    {
     "name": "stdout",
     "output_type": "stream",
     "text": [
      "Male      90\n",
      "Female    49\n",
      "Name: Gender, dtype: int64\n"
     ]
    }
   ],
   "source": [
    "print(hpp[\"Gender\"].value_counts())"
   ]
  },
  {
   "cell_type": "code",
   "execution_count": 31,
   "id": "700c0e46",
   "metadata": {},
   "outputs": [
    {
     "name": "stdout",
     "output_type": "stream",
     "text": [
      "Gryffindor                      38\n",
      "Slytherin                       28\n",
      "Ravenclaw                       18\n",
      "Hufflepuff                      13\n",
      "Beauxbatons Academy of Magic     3\n",
      "Durmstrang Institute             1\n",
      "Name: House, dtype: int64\n"
     ]
    }
   ],
   "source": [
    "print(hpp[\"House\"].value_counts())"
   ]
  },
  {
   "cell_type": "code",
   "execution_count": 67,
   "id": "4be8967a",
   "metadata": {},
   "outputs": [
    {
     "name": "stdout",
     "output_type": "stream",
     "text": [
      "Pure-blood or half-blood     46\n",
      "Pure-blood                   34\n",
      "Half-blood                   22\n",
      "Muggle-born                   7\n",
      "Muggle-born or half-blood     1\n",
      "Name: Blood_status, dtype: int64\n"
     ]
    }
   ],
   "source": [
    "# refine the columns so that there are only 4 options for the values of the column \"Blood_status\"\n",
    "\n",
    "hpp[\"Blood_status\"] = hpp[\"Blood_status\"].replace([\"Pure-blood or Half-blood\", \"Pure-blood or half-blood\", \"Half-blood or pure-blood\"], \"Pure-blood or half-blood\")\n",
    "\n",
    "hpp[\"Blood_status\"] = hpp[\"Blood_status\"].replace([\"Half-blood[\"], \"Half-blood\")\n",
    "\n",
    "hpp[\"Blood_status\"] = hpp[\"Blood_status\"].replace([\"Muggle-born or half-blood[\"], \"Muggle-born or half-blood\")\n",
    "\n",
    "hpp = hpp[hpp.Blood_status != \"Unknown\"]\n",
    "hpp = hpp[hpp.Blood_status != \"Part-Human (Half-giant)\"]\n",
    "hpp = hpp[hpp.Blood_status != \"Quarter-Veela\"]\n",
    "hpp = hpp[hpp.Blood_status != \"Part-Goblin\"]\n",
    "hpp = hpp[hpp.Blood_status != \"Squib\"]\n",
    "hpp = hpp[hpp.Blood_status != \"Muggle\"] \n",
    "\n",
    "print(hpp[\"Blood_status\"].value_counts()) \n"
   ]
  },
  {
   "cell_type": "code",
   "execution_count": 68,
   "id": "8207ffd2",
   "metadata": {},
   "outputs": [
    {
     "name": "stdout",
     "output_type": "stream",
     "text": [
      "Dark                     37\n",
      "Blonde                   24\n",
      "Red                      19\n",
      "Silver / White / Grey    14\n",
      "Brown                    10\n",
      "Bald / Balding            5\n",
      "Name: Hair_colour, dtype: int64\n"
     ]
    }
   ],
   "source": [
    "hpp[\"Hair_colour\"] = hpp[\"Hair_colour\"].replace([\"Blond\", \"White-blond\", \"Silvery-blonde\", \"White blond\", \"Straw blond\", \"Reddish-blonde\", \"Dirty-blonde\", \"Sandy\", \"Straw-coloured\"], \"Blonde\")\n",
    "hpp[\"Hair_colour\"] = hpp[\"Hair_colour\"].replace([\"Grey\", \"Silver\", \"Silver| formerly auburn\", \"Silver| formerly black\", \"White (balding)\", \"Iron grey\", \"White\"], \"Silver / White / Grey\")\n",
    "hpp[\"Hair_colour\"] = hpp[\"Hair_colour\"].replace([\"Red \", \"Ginger\", \"Red brown\", \"Brown/greying\", \"Auburn\"], \"Red\")\n",
    "hpp[\"Hair_colour\"] = hpp[\"Hair_colour\"].replace([\"Bald\", \"Colourless and balding\"], \"Bald\")\n",
    "hpp[\"Hair_colour\"] = hpp[\"Hair_colour\"].replace([\"Black\", \"Jet-black\", \"Colourless and balding\"], \"Dark\")\n",
    "hpp[\"Hair_colour\"] = hpp[\"Hair_colour\"].replace([\"Mousy brown\", \"Reddish-brown\", \"Tawny\", \"Mousy\", \"Light brown flecked with grey\"], \"Brown\")\n",
    "\n",
    "hpp = hpp[hpp.Hair_colour != \"Variable\"]\n",
    "hpp = hpp[hpp.Hair_colour != \"Green\"]\n",
    "\n",
    "print(hpp[\"Hair_colour\"].value_counts())"
   ]
  },
  {
   "cell_type": "code",
   "execution_count": 85,
   "id": "81e69db3",
   "metadata": {},
   "outputs": [
    {
     "name": "stdout",
     "output_type": "stream",
     "text": [
      "Brown    24\n",
      "Blue     18\n",
      "Grey     12\n",
      "Dark     11\n",
      "Green     8\n",
      "Hazel     1\n",
      "Name: Eye_colour, dtype: int64\n"
     ]
    }
   ],
   "source": [
    "hpp[\"Eye_colour\"] = hpp[\"Eye_colour\"].replace([\"Bright green\", \"Gooseberry\"], \"Green\")\n",
    "hpp[\"Eye_colour\"] = hpp[\"Eye_colour\"].replace([\"Bright brown\", \"Scarlet \", \"Ruddy\",\"Black\"], \"Brown\")\n",
    "hpp[\"Eye_colour\"] = hpp[\"Eye_colour\"].replace([ \"Ruddy\",\"Black\"], \"Dark\")\n",
    "hpp[\"Eye_colour\"] = hpp[\"Eye_colour\"].replace([\"Bright Blue\", \"Grey/Blue[\", \"Astonishingly blue\"], \"Blue\")\n",
    "hpp[\"Eye_colour\"] = hpp[\"Eye_colour\"].replace([\"Pale silvery\", \"Silvery\", \"Dark Grey\"], \"Blue\")\n",
    "\n",
    "\n",
    "hpp = hpp[hpp.Eye_colour != \"One dark, one electric blue\"]\n",
    "hpp = hpp[hpp.Eye_colour != \"Pale, freckled\"]\n",
    "hpp = hpp[hpp.Eye_colour != \"Yellowish\"]\n",
    "hpp = hpp[hpp.Eye_colour != \"Yellow\"]\n",
    "\n",
    "print(hpp[\"Eye_colour\"].value_counts())"
   ]
  },
  {
   "cell_type": "code",
   "execution_count": 86,
   "id": "27de1ed4",
   "metadata": {},
   "outputs": [],
   "source": [
    "# refine the columns so that there are only 4 options for the values of the column \"Loyalty\"\n",
    "\n",
    "hpp[\"Loyalty\"] = hpp[\"Loyalty\"].replace([\"Order of the Phoenix\",\"Dumbledore's Army |Hogwarts School of Witchcraft and Wizardry\",\n",
    "    \"Original Order of the Phoenix\", \"Dumbledore's Army | Order of the Phoenix | Hogwarts School of Witchcraft and Wizardry\", \n",
    "    \"Dumbledore's Army\", \"Albus Dumbledore | Order of the Phoenix | Hogwarts School of Witchcraft and Wizardry\", \n",
    "    \"Dumbledore's Army | Hogwarts School of Witchcraft and Wizardry\", \"Ministry of Magic | Order of the Phoenix\", \n",
    "    \"Albus Dumbledore | Dumbledore's Army | Order of the Phoenix | Hogwarts School of Witchcraft and Wizardry\", \n",
    "    \"Order of the Phoenix| British Ministry of Magic\", \"Order of the Phoenix | Gringotts Wizarding Bank\", \n",
    "    \"Order of the Phoenix| Hogwarts School of Witchcraft and Wizardry |British Ministry of Magic\"], \"Dumbledore's Army / Order of the Phoenix\")\n",
    "\n",
    "hpp[\"Loyalty\"] = hpp[\"Loyalty\"].replace([\"Lord Voldemort  | Death Eaters\", \"Lord Voldemort| Death Eaters\", \"Lord Voldemort\"], \"Lord Voldemort / Death Eaters\")\n",
    "\n",
    "hpp[\"Loyalty\"] = hpp[\"Loyalty\"].replace([\"Minister of Magic\"], \"Ministry of Magic\")\n",
    "\n",
    "hpp = hpp[hpp.Loyalty != \"Gellert Grindelwald's Acolytes\"]"
   ]
  }
 ],
 "metadata": {
  "kernelspec": {
   "display_name": "Python 3.10.5 64-bit",
   "language": "python",
   "name": "python3"
  },
  "language_info": {
   "codemirror_mode": {
    "name": "ipython",
    "version": 3
   },
   "file_extension": ".py",
   "mimetype": "text/x-python",
   "name": "python",
   "nbconvert_exporter": "python",
   "pygments_lexer": "ipython3",
   "version": "3.10.5"
  },
  "vscode": {
   "interpreter": {
    "hash": "aee8b7b246df8f9039afb4144a1f6fd8d2ca17a180786b69acc140d282b71a49"
   }
  }
 },
 "nbformat": 4,
 "nbformat_minor": 5
}

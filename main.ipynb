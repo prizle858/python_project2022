{
 "cells": [
  {
   "cell_type": "markdown",
   "id": "b8c80527-9a9e-419b-9f6a-cb21515b0802",
   "metadata": {},
   "source": [
    "Welcome to the world of Harry Potter! \n",
    "\n",
    "Today, we will test how good you actually know this magical world and its residents. If you prove yourself worthy, we will allow you an even deeper look inside the mysteries of this fantastic world.\n",
    "\n",
    "To prove your knowledge you will have to answer 10 questions. If you know the owner of that quote you will permitted one point and a further bonus if you might guess the movie it appeared in right. Answer the majority write and extraordinary knowledge will be yours. \n",
    "\n",
    "Unforunately, due to staff shortage just the first 3 movies will be considered. \n",
    "\n",
    "But now without further ado... Let the test begin!"
   ]
  },
  {
   "cell_type": "code",
   "execution_count": 5,
   "id": "3636aa3e-64ff-4f7a-ab0a-33e26612033b",
   "metadata": {},
   "outputs": [
    {
     "name": "stdout",
     "output_type": "stream",
     "text": [
      "Your answer was wrong! Actually, Ollivander said that\n",
      "\n",
      "Your answer was wrong! Actually, the quote is from movie 1: Harry Potter and the Philosopher’s Stone.\n",
      "\n",
      "Your answer was wrong! Actually, Shrunken Head 1 said that\n",
      "\n",
      "Your answer was wrong! Actually, the quote is from movie 3: Harry Potter and the Prisoner of Azkaban.\n",
      "\n",
      "Your answer was wrong! Actually, Lee  Jordan said that\n",
      "\n",
      "Your answer was wrong! Actually, the quote is from movie 1: Harry Potter and the Philosopher’s Stone.\n",
      "\n",
      "Your answer was wrong! Actually, Dumbledore said that\n",
      "\n",
      "Your answer was wrong! Actually, the quote is from movie 3: Harry Potter and the Prisoner of Azkaban.\n",
      "\n",
      "Your answer was wrong! Actually, Hermione said that\n",
      "\n",
      "Your answer was wrong! Actually, the quote is from movie 1: Harry Potter and the Philosopher’s Stone.\n",
      "\n",
      "Your answer was wrong! Actually, Hagrid said that\n",
      "\n",
      "Your answer was wrong! Actually, the quote is from movie 1: Harry Potter and the Philosopher’s Stone.\n",
      "\n",
      "Your answer was wrong! Actually, Hagrid said that\n",
      "\n",
      "Your answer was wrong! Actually, the quote is from movie 1: Harry Potter and the Philosopher’s Stone.\n",
      "\n",
      "Your answer was wrong! Actually, Dumbledore said that\n",
      "\n",
      "Your answer was wrong! Actually, the quote is from movie 1: Harry Potter and the Philosopher’s Stone.\n",
      "\n",
      "Your answer was wrong! Actually, Hermione said that\n",
      "\n",
      "Your answer was wrong! Actually, the quote is from movie 2: Harry Potter and the Chamber of Secrets.\n",
      "\n",
      "Your answer was wrong! Actually, Harry said that\n",
      "\n",
      "Your answer was wrong! Actually, the quote is from movie 1: Harry Potter and the Philosopher’s Stone.\n",
      "\n",
      "Final score: 0 \n",
      "Bonus points: 0\n",
      "\n",
      "\n",
      "Your access has been denied\n"
     ]
    }
   ],
   "source": [
    "import quiz\n",
    "import plotting\n",
    "\n",
    "# preprocessing the data necessary for the quote quiz\n",
    "hp_script = quiz.preprocessing()\n",
    "\n",
    "# perform the actual test\n",
    "score, bonus = quiz.quote_quiz(hp_script)\n",
    "\n",
    "choice = 0\n",
    "\n",
    "# let user choose which plots he want to see\n",
    "if(score + bonus >= 6):\n",
    "    print(\"Congratulation! You have mastered the test so many before you failed. As promised, you can know have a look at some long hidden knowledge. The question just remains what you will first look at?\\n\")\n",
    "    while(choice != \"escape\"):\n",
    "        print(\"\"\"Your options are: \n",
    "        0. the distribution of gender in each house\n",
    "        1. the distribution of blood status in each house\n",
    "        2. the distribtuion of hair colour in each house \n",
    "        3. the distribution of eye colour in each house\n",
    "        4. the distribution of loyalty in each house\n",
    "        5. the distribtuion of lines in each movie\n",
    "        \n",
    "        Please type the according number to get access. \n",
    "        \n",
    "        Please type \"escape\" to finish. \\n\"\"\")\n",
    "    \n",
    "        choice = input(\"Which plot will you choose? Choose between 0 to 5. \\n\")\n",
    "        \n",
    "        # check if it is a number\n",
    "        # output according plot \n",
    "        if(choice.isdigit()):\n",
    "            choice = int(choice)\n",
    "            if(choice >= 0 and choice <= 4):\n",
    "                plotting.plot(choice)\n",
    "        \n",
    "            elif(choice == 5):\n",
    "                quiz.plot(hp_script)\n",
    "    \n",
    "else:\n",
    "    print(\"Your access has been denied\")"
   ]
  },
  {
   "cell_type": "code",
   "execution_count": null,
   "id": "82593485-cb32-4d04-93f1-d93c26f0583b",
   "metadata": {},
   "outputs": [],
   "source": []
  }
 ],
 "metadata": {
  "kernelspec": {
   "display_name": "Python 3 (ipykernel)",
   "language": "python",
   "name": "python3"
  },
  "language_info": {
   "codemirror_mode": {
    "name": "ipython",
    "version": 3
   },
   "file_extension": ".py",
   "mimetype": "text/x-python",
   "name": "python",
   "nbconvert_exporter": "python",
   "pygments_lexer": "ipython3",
   "version": "3.9.7"
  },
  "vscode": {
   "interpreter": {
    "hash": "9045caf6303e7720903cf179822b02fa228c285a06d63d48b635a33538dcbdb3"
   }
  }
 },
 "nbformat": 4,
 "nbformat_minor": 5
}

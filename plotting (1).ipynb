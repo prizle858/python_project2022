{
 "cells": [
  {
   "cell_type": "code",
   "execution_count": 83,
   "metadata": {},
   "outputs": [
    {
     "name": "stdout",
     "output_type": "stream",
     "text": [
      "Brown    24\n",
      "Blue     17\n",
      "Grey     12\n",
      "Dark     11\n",
      "Green     8\n",
      "Hazel     1\n",
      "Name: Eye_colour, dtype: int64\n",
      "     Gender       House              Blood_status            Hair_colour  \\\n",
      "0      Male  Gryffindor                Half-blood                   Dark   \n",
      "1      Male  Gryffindor                Pure-blood                    Red   \n",
      "2    Female  Gryffindor               Muggle-born                  Brown   \n",
      "3      Male  Gryffindor                Half-blood  Silver / White / Grey   \n",
      "5      Male  Gryffindor                Pure-blood                 Blonde   \n",
      "6      Male  Gryffindor                Pure-blood                    Red   \n",
      "7      Male  Gryffindor                Pure-blood                    Red   \n",
      "8    Female  Gryffindor                Pure-blood                    Red   \n",
      "9      Male  Gryffindor               Muggle-born                   Dark   \n",
      "10     Male  Gryffindor                Half-blood                 Blonde   \n",
      "11   Female  Gryffindor               Muggle-born                    Red   \n",
      "12     Male  Gryffindor                Pure-blood                   Dark   \n",
      "13     Male  Gryffindor                Pure-blood                   Dark   \n",
      "14     Male  Gryffindor                Half-blood                  Brown   \n",
      "15     Male  Gryffindor  Pure-blood or half-blood                   Bald   \n",
      "16     Male  Gryffindor                Pure-blood                    Red   \n",
      "17     Male  Gryffindor                Pure-blood                    Red   \n",
      "18     Male  Gryffindor                Pure-blood                    Red   \n",
      "19     Male  Gryffindor  Pure-blood or half-blood                   Dark   \n",
      "20     Male  Gryffindor  Pure-blood or half-blood                    NaN   \n",
      "22   Female  Gryffindor  Pure-blood or half-blood                  Brown   \n",
      "23   Female  Gryffindor  Pure-blood or half-blood                  Brown   \n",
      "24   Female  Gryffindor                Pure-blood                 Blonde   \n",
      "25   Female  Gryffindor  Pure-blood or half-blood                   Dark   \n",
      "26   Female  Gryffindor  Pure-blood or half-blood                   Dark   \n",
      "27     Male  Gryffindor               Muggle-born                  Brown   \n",
      "28     Male  Gryffindor  Pure-blood or half-blood                 Blonde   \n",
      "29   Female  Gryffindor                Half-blood                   Dark   \n",
      "30   Female  Gryffindor                Pure-blood                    Red   \n",
      "31     Male  Gryffindor                Pure-blood                    Red   \n",
      "68     Male  Gryffindor  Pure-blood or half-blood                    Red   \n",
      "70     Male  Gryffindor                       NaN  Silver / White / Grey   \n",
      "97     Male  Gryffindor                Pure-blood                 Blonde   \n",
      "123    Male  Gryffindor               Muggle-born                  Brown   \n",
      "127    Male  Gryffindor                Half-blood                    NaN   \n",
      "128  Female  Gryffindor                Half-blood                    Red   \n",
      "\n",
      "    Eye_colour                                     Loyalty  \n",
      "0        Green    Dumbledore's Army / Order of the Phoenix  \n",
      "1         Blue    Dumbledore's Army / Order of the Phoenix  \n",
      "2        Brown    Dumbledore's Army / Order of the Phoenix  \n",
      "3         Blue    Dumbledore's Army / Order of the Phoenix  \n",
      "5          NaN    Dumbledore's Army / Order of the Phoenix  \n",
      "6        Brown    Dumbledore's Army / Order of the Phoenix  \n",
      "7        Brown    Dumbledore's Army / Order of the Phoenix  \n",
      "8        Brown    Dumbledore's Army / Order of the Phoenix  \n",
      "9        Brown    Dumbledore's Army / Order of the Phoenix  \n",
      "10         NaN    Dumbledore's Army / Order of the Phoenix  \n",
      "11       Green    Dumbledore's Army / Order of the Phoenix  \n",
      "12       Hazel    Dumbledore's Army / Order of the Phoenix  \n",
      "13        Grey    Dumbledore's Army / Order of the Phoenix  \n",
      "14       Green    Dumbledore's Army / Order of the Phoenix  \n",
      "15        Blue               Lord Voldemort / Death Eaters  \n",
      "16        Blue    Dumbledore's Army / Order of the Phoenix  \n",
      "17        Blue    Dumbledore's Army / Order of the Phoenix  \n",
      "18        Grey    Dumbledore's Army / Order of the Phoenix  \n",
      "19       Brown    Dumbledore's Army / Order of the Phoenix  \n",
      "20         NaN  Hogwarts School of Witchcraft and Wizardry  \n",
      "22       Brown    Dumbledore's Army / Order of the Phoenix  \n",
      "23       Brown    Dumbledore's Army / Order of the Phoenix  \n",
      "24        Blue    Dumbledore's Army / Order of the Phoenix  \n",
      "25        Dark    Dumbledore's Army / Order of the Phoenix  \n",
      "26        Dark    Dumbledore's Army / Order of the Phoenix  \n",
      "27         NaN    Dumbledore's Army / Order of the Phoenix  \n",
      "28         NaN    Dumbledore's Army / Order of the Phoenix  \n",
      "29       Green    Dumbledore's Army / Order of the Phoenix  \n",
      "30       Brown    Dumbledore's Army / Order of the Phoenix  \n",
      "31       Green    Dumbledore's Army / Order of the Phoenix  \n",
      "68       Green                                         NaN  \n",
      "70         NaN                                         NaN  \n",
      "97         NaN    Dumbledore's Army / Order of the Phoenix  \n",
      "123        NaN    Dumbledore's Army / Order of the Phoenix  \n",
      "127        NaN                                         NaN  \n",
      "128        NaN                                         NaN  \n"
     ]
    },
    {
     "name": "stderr",
     "output_type": "stream",
     "text": [
      "/var/folders/qs/pns0wbr11013qpp2_9jz4j1w0000gp/T/ipykernel_9720/3882144641.py:12: SettingWithCopyWarning: \n",
      "A value is trying to be set on a copy of a slice from a DataFrame.\n",
      "Try using .loc[row_indexer,col_indexer] = value instead\n",
      "\n",
      "See the caveats in the documentation: https://pandas.pydata.org/pandas-docs/stable/user_guide/indexing.html#returning-a-view-versus-a-copy\n",
      "  hpp[\"Blood_status\"] = hpp[\"Blood_status\"].replace([\"Pure-blood or Half-blood\", \"Pure-blood or half-blood\", \"Half-blood or pure-blood\"], \"Pure-blood or half-blood\")\n",
      "/var/folders/qs/pns0wbr11013qpp2_9jz4j1w0000gp/T/ipykernel_9720/3882144641.py:13: SettingWithCopyWarning: \n",
      "A value is trying to be set on a copy of a slice from a DataFrame.\n",
      "Try using .loc[row_indexer,col_indexer] = value instead\n",
      "\n",
      "See the caveats in the documentation: https://pandas.pydata.org/pandas-docs/stable/user_guide/indexing.html#returning-a-view-versus-a-copy\n",
      "  hpp[\"Blood_status\"] = hpp[\"Blood_status\"].replace([\"Half-blood[\"], \"Half-blood\")\n",
      "/var/folders/qs/pns0wbr11013qpp2_9jz4j1w0000gp/T/ipykernel_9720/3882144641.py:14: SettingWithCopyWarning: \n",
      "A value is trying to be set on a copy of a slice from a DataFrame.\n",
      "Try using .loc[row_indexer,col_indexer] = value instead\n",
      "\n",
      "See the caveats in the documentation: https://pandas.pydata.org/pandas-docs/stable/user_guide/indexing.html#returning-a-view-versus-a-copy\n",
      "  hpp[\"Blood_status\"] = hpp[\"Blood_status\"].replace([\"Muggle-born or half-blood[\"], \"Muggle-born or half-blood\")\n"
     ]
    }
   ],
   "source": [
    "import pandas as pd\n",
    "import numpy as np\n",
    "import matplotlib.pyplot as plt\n",
    "\n",
    "# read the files\n",
    "hp = pd.read_csv('Characters.csv', delimiter = \";\")\n",
    "hpp = hp[['Gender', 'House', 'Blood status', 'Hair colour', 'Eye colour', 'Loyalty']]\n",
    "hpp.columns = hpp.columns.str.replace(\"Blood status\", \"Blood_status\")\n",
    "hpp.columns = hpp.columns.str.replace(\"Hair colour\", \"Hair_colour\")\n",
    "hpp.columns = hpp.columns.str.replace(\"Eye colour\", \"Eye_colour\")\n",
    "\n",
    "hpp[\"Blood_status\"] = hpp[\"Blood_status\"].replace([\"Pure-blood or Half-blood\", \"Pure-blood or half-blood\", \"Half-blood or pure-blood\"], \"Pure-blood or half-blood\")\n",
    "hpp[\"Blood_status\"] = hpp[\"Blood_status\"].replace([\"Half-blood[\"], \"Half-blood\")\n",
    "hpp[\"Blood_status\"] = hpp[\"Blood_status\"].replace([\"Muggle-born or half-blood[\"], \"Muggle-born or half-blood\")\n",
    "\n",
    "\"\"\" hpp = hpp[hpp.Blood_status != \"Unknown\"]\n",
    "hpp = hpp[hpp.Blood_status != \"Part-Human (Half-giant)\"]\n",
    "hpp = hpp[hpp.Blood_status != \"Quarter-Veela\"]\n",
    "hpp = hpp[hpp.Blood_status != \"Part-Goblin\"]\n",
    "hpp = hpp[hpp.Blood_status != \"Squib\"]\n",
    "hpp = hpp[hpp.Blood_status != \"Muggle\"]  \"\"\"\n",
    "\n",
    "ls = [\"Unknown\", \"Part-Human (Half-giant)\", \"Quarter-Veela\", \"Part-Goblin\", \"Squib\", \"Muggle\"]\n",
    "for i in ls:\n",
    "    hpp = hpp[hpp.Blood_status != i]\n",
    "\n",
    "hpp[\"Hair_colour\"] = hpp[\"Hair_colour\"].replace([\"Blond\", \"White-blond\", \"Silvery-blonde\", \"White blond\", \"Straw blond\", \"Reddish-blonde\", \"Dirty-blonde\", \"Sandy\", \"Straw-coloured\"], \"Blonde\")\n",
    "hpp[\"Hair_colour\"] = hpp[\"Hair_colour\"].replace([\"Grey\", \"Silver\", \"Silver| formerly auburn\", \"Silver| formerly black\", \"White (balding)\", \"Iron grey\", \"White\"], \"Silver / White / Grey\")\n",
    "hpp[\"Hair_colour\"] = hpp[\"Hair_colour\"].replace([\"Red \", \"Ginger\", \"Red brown\", \"Brown/greying\", \"Auburn\"], \"Red\")\n",
    "hpp[\"Hair_colour\"] = hpp[\"Hair_colour\"].replace([\"Bald\", \"Colourless and balding\"], \"Bald\")\n",
    "hpp[\"Hair_colour\"] = hpp[\"Hair_colour\"].replace([\"Black\", \"Jet-black\", \"Colourless and balding\"], \"Dark\")\n",
    "hpp[\"Hair_colour\"] = hpp[\"Hair_colour\"].replace([\"Mousy brown\", \"Reddish-brown\", \"Tawny\", \"Mousy\", \"Light brown flecked with grey\"], \"Brown\")\n",
    "\n",
    "hpp = hpp[hpp.Hair_colour != \"Variable\"]\n",
    "hpp = hpp[hpp.Hair_colour != \"Green\"]\n",
    "\n",
    "hpp[\"Eye_colour\"] = hpp[\"Eye_colour\"].replace([\"Bright green\", \"Gooseberry\"], \"Green\")\n",
    "hpp[\"Eye_colour\"] = hpp[\"Eye_colour\"].replace([\"Bright brown\", \"Scarlet \", \"Ruddy\",\"Black\"], \"Brown\")\n",
    "hpp[\"Eye_colour\"] = hpp[\"Eye_colour\"].replace([ \"Ruddy\",\"Black\"], \"Dark\")\n",
    "hpp[\"Eye_colour\"] = hpp[\"Eye_colour\"].replace([\"Bright Blue\", \"Grey/Blue[\", \"Astonishingly blue\"], \"Blue\")\n",
    "hpp[\"Eye_colour\"] = hpp[\"Eye_colour\"].replace([\"Pale silvery\", \"Silvery\", \"Dark Grey\"], \"Blue\")\n",
    "\n",
    "\n",
    "\"\"\" hpp = hpp[hpp.Eye_colour != \"One dark, one electric blue\"]\n",
    "hpp = hpp[hpp.Eye_colour != \"Pale, freckled\"]\n",
    "hpp = hpp[hpp.Eye_colour != \"Yellowish\"]\n",
    "hpp = hpp[hpp.Eye_colour != \"Yellow\"] \"\"\"\n",
    "\n",
    "ls3 = [\"One dark, one electric blue\", \"Pale, freckled\", \"Yellowish\", \"Yellow\"]\n",
    "for i in ls3:\n",
    "    hpp = hpp[hpp.Eye_colour != i]\n",
    "\n",
    "hpp[\"Loyalty\"] = hpp[\"Loyalty\"].replace([\"Order of the Phoenix\",\"Dumbledore's Army |Hogwarts School of Witchcraft and Wizardry\",\n",
    "    \"Original Order of the Phoenix\", \"Dumbledore's Army | Order of the Phoenix | Hogwarts School of Witchcraft and Wizardry\", \n",
    "    \"Dumbledore's Army\", \"Albus Dumbledore | Order of the Phoenix | Hogwarts School of Witchcraft and Wizardry\", \n",
    "    \"Dumbledore's Army | Hogwarts School of Witchcraft and Wizardry\", \"Ministry of Magic | Order of the Phoenix\", \n",
    "    \"Albus Dumbledore | Dumbledore's Army | Order of the Phoenix | Hogwarts School of Witchcraft and Wizardry\", \n",
    "    \"Order of the Phoenix| British Ministry of Magic\", \"Order of the Phoenix | Gringotts Wizarding Bank\", \n",
    "    \"Order of the Phoenix| Hogwarts School of Witchcraft and Wizardry |British Ministry of Magic\"], \"Dumbledore's Army / Order of the Phoenix\")\n",
    "\n",
    "hpp[\"Loyalty\"] = hpp[\"Loyalty\"].replace([\"Lord Voldemort  | Death Eaters\", \"Lord Voldemort| Death Eaters\", \"Lord Voldemort\"], \"Lord Voldemort / Death Eaters\")\n",
    "hpp[\"Loyalty\"] = hpp[\"Loyalty\"].replace([\"Minister of Magic\"], \"Ministry of Magic\")\n",
    "\n",
    "hpp = hpp[hpp.Loyalty != \"Gellert Grindelwald's Acolytes\"]\n",
    "\n",
    "print(hpp[\"Eye_colour\"].value_counts())\n",
    "\n",
    "print(hpp[hpp.House == \"Gryffindor\"])"
   ]
  },
  {
   "cell_type": "code",
   "execution_count": 95,
   "metadata": {},
   "outputs": [
    {
     "name": "stdout",
     "output_type": "stream",
     "text": [
      "['Female', 'Male']\n"
     ]
    }
   ],
   "source": [
    "###REFINING THE DATA###\n",
    "\n",
    "# 'Gender', 'House', 'Blood status', \n",
    "# 'Hair colour', 'Eye colour', 'Loyalty'\n",
    "\n",
    "gryffindor = [] # 2D lists of traits in Gryffindor [[loyalty], [bloodstatus]]\n",
    "hufflepuff = [] # lists of traits in Hufflepuff\n",
    "ravenclaw = []  # lists of traits in Ravenclaw\n",
    "slytherin = []  # lists of traits in Slytherin\n",
    "\n",
    "g = 1 # for future indexing \n",
    "gender = np.unique(hpp.Gender.values.tolist())\n",
    "gender = [x for x in gender if str(x) != 'nan'] # remove 'nan'\n",
    "print(gender)\n",
    "\n",
    "houselist = np.unique(hpp.House.values.tolist())\n",
    "houselist = houselist[1:5] # remove 'Durmstrang Institute' and 'nan'\n",
    "print(houselist)\n",
    "\n",
    "b = 2\n",
    "bloodstatuslist = np.unique(hpp.Blood_status.values.tolist())\n",
    "bloodstatuslist = bloodstatuslist[0:4] # remove 'Pure-blood or half-blood' and 'nan'\n",
    "bloodstatuslist = np.delete(bloodstatuslist, 2, 0) # remove 'Muggle-born or half-blood'\n",
    "\n",
    "h = 3\n",
    "haircolour = np.unique(hpp.Hair_colour.values.tolist())\n",
    "haircolour = [x for x in haircolour if str(x) != 'nan'] # remove 'nan'\n",
    "\n",
    "e = 4\n",
    "eyecolour = np.unique(hpp.Eye_colour.values.tolist())\n",
    "eyecolour = [x for x in eyecolour if str(x) != 'nan'] # remove 'nan'\n",
    "\n",
    "l = 5\n",
    "loyalty = np.unique(hpp.Loyalty.values.tolist())\n",
    "loyalty = [x for x in loyalty if str(x) != 'nan'] # remove 'nan'\n"
   ]
  },
  {
   "cell_type": "code",
   "execution_count": 86,
   "metadata": {},
   "outputs": [
    {
     "name": "stdout",
     "output_type": "stream",
     "text": [
      "[\"Dumbledore's Army / Order of the Phoenix\"\n",
      " 'Hogwarts School of Witchcraft and Wizardry'\n",
      " 'Lord Voldemort / Death Eaters' 'Ministry of Magic']\n",
      "[[30, 1, 1, 0]]\n",
      "[[6, 0, 0, 0]]\n",
      "[[6, 0, 1, 0]]\n",
      "[[0, 0, 10, 1]]\n"
     ]
    }
   ],
   "source": [
    "###INSERTING DATA INTO 2D LISTS LOYALTY###\n",
    "\n",
    "\"\"\" print(hpp[\"Loyalty\"].value_counts())\n",
    "GD_table = hpp.loc[(hpp['House'] == \"Gryffindor\") & (hpp['Loyalty'] == \"Dumbledore's Army / Order of the Phoenix\")]\n",
    "GD = GD_table.shape[0] # gives number of the row (aka Gryffindor and Half-blood)\n",
    "print(GD) \"\"\"\n",
    "\n",
    "gryffindor_loyalty = [] # number of supporter of ['Dumbledore' 'Voldemort' 'Hogwarts' 'Ministry of Magic] in Gryffindor\n",
    "hufflepuff_loyalty = [] # number of supporter of ['Dumbledore' 'Voldemort' 'Hogwarts' 'Ministry of Magic] in Hufflepuff\n",
    "ravenclaw_loyalty = []  # number of supporter of ['Dumbledore' 'Voldemort' 'Hogwarts' 'Ministry of Magic] in Ravenclaw\n",
    "slytherin_loyalty = []  # number of supporter of ['Dumbledore' 'Voldemort' 'Hogwarts' 'Ministry of Magic] in Slytherin\n",
    "\n",
    "for i in houselist: \n",
    "    for j in loyalty:\n",
    "    \n",
    "        df = hpp.loc[(hpp['House'] == i) & (hpp['Loyalty'] == j)]\n",
    "        num_row_df = df.shape[0] # gives number of the row (aka Gryffindor and Half-blood)\n",
    "            \n",
    "        if i == 'Gryffindor':\n",
    "            gryffindor_loyalty.append(num_row_df)\n",
    "        elif i == 'Hufflepuff':\n",
    "            hufflepuff_loyalty.append(num_row_df)\n",
    "        elif i == 'Ravenclaw':\n",
    "            ravenclaw_loyalty.append(num_row_df)\n",
    "        elif i == 'Slytherin':\n",
    "            slytherin_loyalty.append(num_row_df)\n",
    "\n",
    "gryffindor.append(gryffindor_loyalty)\n",
    "hufflepuff.append(hufflepuff_loyalty)\n",
    "ravenclaw.append(ravenclaw_loyalty)\n",
    "slytherin.append(slytherin_loyalty)\n",
    "\n",
    "print(gryffindor)\n",
    "print(hufflepuff)\n",
    "print(ravenclaw)\n",
    "print(slytherin)"
   ]
  },
  {
   "cell_type": "code",
   "execution_count": 87,
   "metadata": {},
   "outputs": [
    {
     "name": "stderr",
     "output_type": "stream",
     "text": [
      "/var/folders/qs/pns0wbr11013qpp2_9jz4j1w0000gp/T/ipykernel_9720/2152793766.py:31: UserWarning: You have mixed positional and keyword arguments, some input may be discarded.\n",
      "  fig2.legend(fig2,     # The line objects\n"
     ]
    },
    {
     "data": {
      "text/plain": [
       "<matplotlib.legend.Legend at 0x126dfb9d0>"
      ]
     },
     "execution_count": 87,
     "metadata": {},
     "output_type": "execute_result"
    },
    {
     "data": {
      "image/png": "[encoded data removed]",
      "text/plain": [
       "<Figure size 432x288 with 4 Axes>"
      ]
     },
     "metadata": {},
     "output_type": "display_data"
    }
   ],
   "source": [
    "###PLOTTING LOYALTY###\n",
    "explode = (0.05, 0.05, 0.05, 0.05, 0.05)\n",
    "# TODO: use explode, donut plot\n",
    "\n",
    "fig2, axs2 = plt.subplots(2, 2)\n",
    "for i in [0,1]:\n",
    "  for j in [0,1]:\n",
    "            if i == 0 and j == 0:\n",
    "              x = gryffindor[0]\n",
    "              title = 'Gryffindor'\n",
    "            elif i == 0 and j == 1:\n",
    "              x = hufflepuff[0]\n",
    "              title = 'Hufflepuff'\n",
    "            elif i == 1 and j == 0:\n",
    "              x = ravenclaw[0]\n",
    "              title = 'Ravenclaw'\n",
    "            else: \n",
    "              x = slytherin[0]\n",
    "              title = 'Slytherin'\n",
    "\n",
    "            axs2[i, j].pie(x, shadow=True, startangle = 90)\n",
    "            axs2[i, j].set_title(title)\n",
    "\n",
    "# draw circle\n",
    "centre_circle = plt.Circle((0, 0), 0.70, fc='black') # readjust color depending on background\n",
    "fig2 = plt.gcf()\n",
    "# Adding Circle in Pie chart\n",
    "fig2.gca().add_artist(centre_circle)\n",
    "\n",
    "\n",
    "fig2.legend(fig2,     # The line objects\n",
    "           labels=loyalty,   # The labels for each line\n",
    "           loc=\"center\",   # Position of legend\n",
    "           borderaxespad=0.1,    # Small spacing around legend box\n",
    "           title=\"Loyalty\"  # Title for the legend\n",
    "           )"
   ]
  },
  {
   "cell_type": "code",
   "execution_count": 90,
   "metadata": {},
   "outputs": [
    {
     "name": "stdout",
     "output_type": "stream",
     "text": [
      "[[30, 1, 1, 0], [7, 5, 14]]\n",
      "[[6, 0, 0, 0], [7, 5, 14]]\n",
      "[[6, 0, 1, 0], [7, 5, 14]]\n",
      "[[0, 0, 10, 1], [7, 5, 14]]\n"
     ]
    }
   ],
   "source": [
    "###INSERTING DATA INTO 2D LISTS BLOOD###\n",
    "\n",
    "gryffindor_blood = [] # number of ['Half-blood' 'Muggle-born' 'Pure-blood'] in Gryffindor\n",
    "hufflepuff_blood = [] # number of ['Half-blood' 'Muggle-born' 'Pure-blood'] in Hufflepuff\n",
    "ravenclaw_blood = []  # number of ['Half-blood' 'Muggle-born' 'Pure-blood'] in Ravenclaw\n",
    "slytherin_blood = []  # number of ['Half-blood' 'Muggle-born' 'Pure-blood'] in Slytherin\n",
    "\n",
    "for i in houselist: \n",
    "    for j in bloodstatuslist:\n",
    "    \n",
    "        df = hpp.loc[(hpp['House'] == i) & (hpp['Blood_status'] == j)]\n",
    "        num_row_df = df.shape[0] # gives number of the row (e.g. Gryffindor and Half-blood)\n",
    "            \n",
    "        if i == 'Gryffindor':\n",
    "            gryffindor_blood.append(num_row_df)\n",
    "        elif i == 'Hufflepuff':\n",
    "            hufflepuff_blood.append(num_row_df)\n",
    "        elif i == 'Ravenclaw':\n",
    "            ravenclaw_blood.append(num_row_df)\n",
    "        elif i == 'Slytherin':\n",
    "            slytherin_blood.append(num_row_df)\n",
    "\n",
    "gryffindor.append(gryffindor_blood)\n",
    "hufflepuff.append(gryffindor_blood)\n",
    "ravenclaw.append(gryffindor_blood)\n",
    "slytherin.append(gryffindor_blood)\n",
    "\n",
    "print(gryffindor)\n",
    "print(hufflepuff)\n",
    "print(ravenclaw)\n",
    "print(slytherin)\n"
   ]
  },
  {
   "cell_type": "code",
   "execution_count": 91,
   "metadata": {},
   "outputs": [
    {
     "name": "stderr",
     "output_type": "stream",
     "text": [
      "/var/folders/qs/pns0wbr11013qpp2_9jz4j1w0000gp/T/ipykernel_9720/2098946678.py:33: UserWarning: You have mixed positional and keyword arguments, some input may be discarded.\n",
      "  fig2.legend(fig2,     # The line objects\n"
     ]
    },
    {
     "data": {
      "text/plain": [
       "<matplotlib.legend.Legend at 0x127622e20>"
      ]
     },
     "execution_count": 91,
     "metadata": {},
     "output_type": "execute_result"
    },
    {
     "data": {
      "image/png": "[encoded data removed]",
      "text/plain": [
       "<Figure size 432x288 with 4 Axes>"
      ]
     },
     "metadata": {},
     "output_type": "display_data"
    }
   ],
   "source": [
    "###PLOTTING BLOOD###\n",
    "\n",
    "explode = (0.05, 0.05, 0.05, 0.05, 0.05)\n",
    "# use explode, donut plot\n",
    "\n",
    "fig2, axs2 = plt.subplots(2, 2)\n",
    "# TODO: indexing gryfinndor[x]\n",
    "for i in [0,1]:\n",
    "  for j in [0,1]:\n",
    "            if i == 0 and j == 0:\n",
    "              x = gryffindor[1]\n",
    "              title = 'Gryffindor'\n",
    "            elif i == 0 and j == 1:\n",
    "              x = hufflepuff[1]\n",
    "              title = 'Hufflepuff'\n",
    "            elif i == 1 and j == 0:\n",
    "              x = ravenclaw[1]\n",
    "              title = 'Ravenclaw'\n",
    "            else: \n",
    "              x = slytherin[1]\n",
    "              title = 'Slytherin'\n",
    "\n",
    "            axs2[i, j].pie(x, shadow=True, startangle = 90)\n",
    "            axs2[i, j].set_title(title)\n",
    "\n",
    "# draw circle\n",
    "centre_circle = plt.Circle((0, 0), 0.70, fc='black') # readjust color depending on background\n",
    "fig2 = plt.gcf()\n",
    "# Adding Circle in Pie chart\n",
    "fig2.gca().add_artist(centre_circle)\n",
    "\n",
    "\n",
    "fig2.legend(fig2,     # The line objects\n",
    "           labels=bloodstatuslist,   # The labels for each line\n",
    "           loc=\"center\",   # Position of legend\n",
    "           borderaxespad=0.1,    # Small spacing around legend box\n",
    "           title=\"Blood status\"  # Title for the legend\n",
    "           )\n",
    "# solve overlapping of the percentage"
   ]
  },
  {
   "cell_type": "code",
   "execution_count": null,
   "metadata": {},
   "outputs": [],
   "source": []
  }
 ],
 "metadata": {
  "kernelspec": {
   "display_name": "Python 3.10.5 64-bit",
   "language": "python",
   "name": "python3"
  },
  "language_info": {
   "codemirror_mode": {
    "name": "ipython",
    "version": 3
   },
   "file_extension": ".py",
   "mimetype": "text/x-python",
   "name": "python",
   "nbconvert_exporter": "python",
   "pygments_lexer": "ipython3",
   "version": "3.9.13"
  },
  "orig_nbformat": 4,
  "vscode": {
   "interpreter": {
    "hash": "aee8b7b246df8f9039afb4144a1f6fd8d2ca17a180786b69acc140d282b71a49"
   }
  }
 },
 "nbformat": 4,
 "nbformat_minor": 2
}
